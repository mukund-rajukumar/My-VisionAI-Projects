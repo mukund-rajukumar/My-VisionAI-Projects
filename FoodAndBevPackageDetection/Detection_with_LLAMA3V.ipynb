{
 "cells": [
  {
   "cell_type": "code",
   "execution_count": null,
   "metadata": {
    "vscode": {
     "languageId": "plaintext"
    }
   },
   "outputs": [],
   "source": [
    "#@title Install Dependencies\n",
    "import importlib.util # Import the importlib module\n",
    "\n",
    "if importlib.util.find_spec('tabulate') is None:\n",
    "  %pip install tabulate\n",
    "\n",
    "if importlib.util.find_spec('timm') is None:\n",
    "  %pip install timm\n",
    "\n",
    "from PIL import Image\n",
    "import matplotlib.pyplot as plt\n",
    "import matplotlib.patches as patches\n",
    "from matplotlib.patches import Rectangle\n",
    "import numpy as np\n",
    "import os\n",
    "import yaml\n",
    "import time\n",
    "import re\n",
    "\n",
    "import torch\n",
    "from transformers import AutoTokenizer, AutoModel\n",
    "import math\n",
    "import torchvision.transforms as T\n",
    "from torchvision.transforms.functional import InterpolationMode\n",
    "\n",
    "from pathlib import Path"
   ]
  }
 ],
 "metadata": {
  "language_info": {
   "name": "python"
  }
 },
 "nbformat": 4,
 "nbformat_minor": 2
}
