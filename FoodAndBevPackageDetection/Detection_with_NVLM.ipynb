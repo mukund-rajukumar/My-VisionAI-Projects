{
 "cells": [
  {
   "cell_type": "markdown",
   "metadata": {},
   "source": [
    "<a href=\"https://colab.research.google.com/github/mukund-rajukumar/My-VisionAI-Projects/blob/main/FoodAndBevPackageDetection/FnB_CPG_Detection.ipynb\" target=\"_parent\"><img src=\"https://colab.research.google.com/assets/colab-badge.svg\" alt=\"Open In Colab\"/></a>"
   ]
  },
  {
   "cell_type": "code",
   "execution_count": null,
   "metadata": {
    "vscode": {
     "languageId": "plaintext"
    }
   },
   "outputs": [],
   "source": [
    "from PIL import Image\n",
    "import matplotlib.pyplot as plt\n",
    "from pathlib import Path\n",
    "import os\n",
    "\n",
    "# In general, use ! if the command is one that's okay to run in a separate shell.\n",
    "# Use % if the command needs to be run on the specific notebook.\n",
    "if os.environ.get('HOME') == \"/Users/mukund\":\n",
    "  %cd '/Users/mukund/Documents/HealthyYouVendingProject'\n",
    "!pwd\n",
    "\n",
    "# Define paths to the dataset\n",
    "dataset_dir = './fnb-dataset'\n",
    "images_dir = os.path.join(dataset_dir, 'images', 'Test')\n",
    "labels_dir = os.path.join(dataset_dir, 'labels', 'Test')\n",
    "data_yaml_path = os.path.join(dataset_dir, 'data.yaml')\n",
    "\n",
    "# Load class labels from the data.yaml file\n",
    "class_labels = load_class_labels(data_yaml_path)\n",
    "\n",
    "# List of image files\n",
    "image_files = os.listdir(images_dir)\n",
    "num_images = len(image_files)\n",
    "\n",
    "# Loop through the test images and plot them with their bounding boxes\n",
    "test_data = []\n",
    "for image_file in image_files:\n",
    "  image_path = os.path.join(images_dir, image_file)\n",
    "  # image = cv2.imread(image_path)\n",
    "  # image = cv2.cvtColor(image, cv2.COLOR_BGR2RGB)  # Convert image to RGB format for display\n",
    "  image = Image.open(image_path)\n",
    "  # print(f\"{img_fname} dim: {images[-1].size}\")\n",
    "  label_path = os.path.join(labels_dir, image_file.replace('.jpg', '.txt'))  # Assuming the labels have the same name as the images\n",
    "  labels = extract_image_bboxes(image, label_path, class_labels)\n",
    "  test_data.append({'image': image, 'filename': image_file, 'labels': labels})\n",
    "\n",
    "# plt.subplots(nrows=1, ncols=num_images, figsize=(15, 15))\n",
    "# for i, image in enumerate(images):\n",
    "#   plt.subplot(1, num_images, i+1)\n",
    "#   resized_image = image.resize((1024, 1024), Image.Resampling.NEAREST)\n",
    "#   plt.imshow(resized_image)\n",
    "#   plt.title(f\"{img_fnames[i]} {images[i].size}\")\n",
    "#   plt.axis('off')\n",
    "\n",
    "# plt.show()"
   ]
  }
 ],
 "metadata": {
  "language_info": {
   "name": "python"
  }
 },
 "nbformat": 4,
 "nbformat_minor": 2
}
